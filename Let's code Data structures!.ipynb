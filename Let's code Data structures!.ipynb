{
 "cells": [
  {
   "cell_type": "code",
   "execution_count": 2,
   "id": "82796435",
   "metadata": {},
   "outputs": [
    {
     "name": "stdout",
     "output_type": "stream",
     "text": [
      "Input the radius of the circle: 3.2\n",
      "Area of the circle is: 32.169908772759484\n"
     ]
    }
   ],
   "source": [
    " import math\n",
    "radius = float(input(\"Input the radius of the circle: \")) \n",
    "    \n",
    "area = math.pi*radius*radius\n",
    " print(\"Area of the circle is: {0}\".format(area))\n",
    "    "
   ]
  },
  {
   "cell_type": "code",
   "execution_count": 3,
   "id": "6d08b5e2",
   "metadata": {},
   "outputs": [
    {
     "name": "stdout",
     "output_type": "stream",
     "text": [
      "Input the FileName: jupyter.py\n",
      "The extension of the file is: 'py'\n"
     ]
    }
   ],
   "source": [
    "filename = input(\"Input the FileName: \")\n",
    "file_extns = filename.split(\".\")\n",
    "print(\"The extension of the file is: \"+ repr(file_extns[-1]))"
   ]
  },
  {
   "cell_type": "code",
   "execution_count": null,
   "id": "e778120a",
   "metadata": {},
   "outputs": [],
   "source": []
  }
 ],
 "metadata": {
  "kernelspec": {
   "display_name": "Python 3 (ipykernel)",
   "language": "python",
   "name": "python3"
  },
  "language_info": {
   "codemirror_mode": {
    "name": "ipython",
    "version": 3
   },
   "file_extension": ".py",
   "mimetype": "text/x-python",
   "name": "python",
   "nbconvert_exporter": "python",
   "pygments_lexer": "ipython3",
   "version": "3.9.6"
  }
 },
 "nbformat": 4,
 "nbformat_minor": 5
}
